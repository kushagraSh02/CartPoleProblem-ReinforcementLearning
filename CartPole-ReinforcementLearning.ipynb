{
 "cells": [
  {
   "cell_type": "code",
   "execution_count": 1,
   "id": "712ad004",
   "metadata": {},
   "outputs": [
    {
     "name": "stdout",
     "output_type": "stream",
     "text": [
      "Requirement already satisfied: gym in c:\\users\\kusha\\appdata\\local\\programs\\python\\python310\\lib\\site-packages (0.26.2)\n",
      "Requirement already satisfied: stable_baselines3 in c:\\users\\kusha\\appdata\\local\\programs\\python\\python310\\lib\\site-packages (2.2.1)\n",
      "Requirement already satisfied: numpy>=1.18.0 in c:\\users\\kusha\\appdata\\local\\programs\\python\\python310\\lib\\site-packages (from gym) (1.23.1)\n",
      "Requirement already satisfied: cloudpickle>=1.2.0 in c:\\users\\kusha\\appdata\\local\\programs\\python\\python310\\lib\\site-packages (from gym) (3.0.0)\n",
      "Requirement already satisfied: gym-notices>=0.0.4 in c:\\users\\kusha\\appdata\\local\\programs\\python\\python310\\lib\\site-packages (from gym) (0.0.8)\n",
      "Requirement already satisfied: gymnasium<0.30,>=0.28.1 in c:\\users\\kusha\\appdata\\local\\programs\\python\\python310\\lib\\site-packages (from stable_baselines3) (0.29.1)\n",
      "Requirement already satisfied: torch>=1.13 in c:\\users\\kusha\\appdata\\local\\programs\\python\\python310\\lib\\site-packages (from stable_baselines3) (1.13.1)\n",
      "Requirement already satisfied: pandas in c:\\users\\kusha\\appdata\\local\\programs\\python\\python310\\lib\\site-packages (from stable_baselines3) (1.4.3)\n",
      "Requirement already satisfied: matplotlib in c:\\users\\kusha\\appdata\\local\\programs\\python\\python310\\lib\\site-packages (from stable_baselines3) (3.6.3)\n",
      "Requirement already satisfied: typing-extensions>=4.3.0 in c:\\users\\kusha\\appdata\\local\\programs\\python\\python310\\lib\\site-packages (from gymnasium<0.30,>=0.28.1->stable_baselines3) (4.7.1)\n",
      "Requirement already satisfied: farama-notifications>=0.0.1 in c:\\users\\kusha\\appdata\\local\\programs\\python\\python310\\lib\\site-packages (from gymnasium<0.30,>=0.28.1->stable_baselines3) (0.0.4)\n",
      "Requirement already satisfied: contourpy>=1.0.1 in c:\\users\\kusha\\appdata\\local\\programs\\python\\python310\\lib\\site-packages (from matplotlib->stable_baselines3) (1.0.7)\n",
      "Requirement already satisfied: cycler>=0.10 in c:\\users\\kusha\\appdata\\local\\programs\\python\\python310\\lib\\site-packages (from matplotlib->stable_baselines3) (0.11.0)\n",
      "Requirement already satisfied: fonttools>=4.22.0 in c:\\users\\kusha\\appdata\\local\\programs\\python\\python310\\lib\\site-packages (from matplotlib->stable_baselines3) (4.38.0)\n",
      "Requirement already satisfied: kiwisolver>=1.0.1 in c:\\users\\kusha\\appdata\\local\\programs\\python\\python310\\lib\\site-packages (from matplotlib->stable_baselines3) (1.4.4)\n",
      "Requirement already satisfied: packaging>=20.0 in c:\\users\\kusha\\appdata\\local\\programs\\python\\python310\\lib\\site-packages (from matplotlib->stable_baselines3) (21.3)\n",
      "Requirement already satisfied: pillow>=6.2.0 in c:\\users\\kusha\\appdata\\local\\programs\\python\\python310\\lib\\site-packages (from matplotlib->stable_baselines3) (9.2.0)\n",
      "Requirement already satisfied: pyparsing>=2.2.1 in c:\\users\\kusha\\appdata\\local\\programs\\python\\python310\\lib\\site-packages (from matplotlib->stable_baselines3) (3.0.9)\n",
      "Requirement already satisfied: python-dateutil>=2.7 in c:\\users\\kusha\\appdata\\local\\programs\\python\\python310\\lib\\site-packages (from matplotlib->stable_baselines3) (2.8.2)\n",
      "Requirement already satisfied: pytz>=2020.1 in c:\\users\\kusha\\appdata\\local\\programs\\python\\python310\\lib\\site-packages (from pandas->stable_baselines3) (2023.3)\n",
      "Requirement already satisfied: six>=1.5 in c:\\users\\kusha\\appdata\\local\\programs\\python\\python310\\lib\\site-packages (from python-dateutil>=2.7->matplotlib->stable_baselines3) (1.16.0)\n"
     ]
    },
    {
     "name": "stderr",
     "output_type": "stream",
     "text": [
      "DEPRECATION: celery 5.2.0 has a non-standard dependency specifier pytz>dev. pip 24.0 will enforce this behaviour change. A possible replacement is to upgrade to a newer version of celery or contact the author to suggest that they release a version with a conforming dependency specifiers. Discussion can be found at https://github.com/pypa/pip/issues/12063\n"
     ]
    }
   ],
   "source": [
    "# installing gym module\n",
    "!pip install gym stable_baselines3"
   ]
  },
  {
   "cell_type": "markdown",
   "id": "0ffde327",
   "metadata": {},
   "source": [
    "### Importing libraries"
   ]
  },
  {
   "cell_type": "code",
   "execution_count": 2,
   "id": "195bf635",
   "metadata": {},
   "outputs": [],
   "source": [
    "import gym\n",
    "from stable_baselines3 import PPO\n",
    "from stable_baselines3.common.vec_env import DummyVecEnv\n",
    "from stable_baselines3.common.evaluation import evaluate_policy"
   ]
  },
  {
   "cell_type": "markdown",
   "id": "5e4fa268",
   "metadata": {},
   "source": [
    "### Enviromnent with random actions"
   ]
  },
  {
   "cell_type": "code",
   "execution_count": 3,
   "id": "60560bd0",
   "metadata": {},
   "outputs": [
    {
     "name": "stderr",
     "output_type": "stream",
     "text": [
      "C:\\Users\\kusha\\AppData\\Local\\Programs\\Python\\Python310\\lib\\site-packages\\gym\\envs\\registration.py:555: UserWarning: \u001b[33mWARN: The environment CartPole-v0 is out of date. You should consider upgrading to version `v1`.\u001b[0m\n",
      "  logger.warn(\n"
     ]
    }
   ],
   "source": [
    "env_name = 'CartPole-v0'\n",
    "env = gym.make(env_name)"
   ]
  },
  {
   "cell_type": "code",
   "execution_count": 4,
   "id": "54cc1c48",
   "metadata": {},
   "outputs": [
    {
     "name": "stdout",
     "output_type": "stream",
     "text": [
      "Episode: 1 Score: 40.0\n",
      "Episode: 2 Score: 16.0\n",
      "Episode: 3 Score: 17.0\n",
      "Episode: 4 Score: 66.0\n",
      "Episode: 5 Score: 21.0\n",
      "Episode: 6 Score: 12.0\n",
      "Episode: 7 Score: 20.0\n",
      "Episode: 8 Score: 27.0\n",
      "Episode: 9 Score: 32.0\n",
      "Episode: 10 Score: 27.0\n"
     ]
    },
    {
     "name": "stderr",
     "output_type": "stream",
     "text": [
      "C:\\Users\\kusha\\AppData\\Local\\Programs\\Python\\Python310\\lib\\site-packages\\gym\\envs\\classic_control\\cartpole.py:211: UserWarning: \u001b[33mWARN: You are calling render method without specifying any render mode. You can specify the render_mode at initialization, e.g. gym(\"CartPole-v0\", render_mode=\"rgb_array\")\u001b[0m\n",
      "  gym.logger.warn(\n"
     ]
    }
   ],
   "source": [
    "for episode in range(1, 11):\n",
    "    score = 0\n",
    "    state = env.reset()\n",
    "    done = False\n",
    "    \n",
    "    while not done:\n",
    "        env.render()\n",
    "        action = env.action_space.sample()\n",
    "        n_state, reward, done, info, truncated_done= env.step(action)\n",
    "        score += reward\n",
    "        \n",
    "    print('Episode:', episode, 'Score:', score)\n",
    "env.close()"
   ]
  },
  {
   "cell_type": "markdown",
   "id": "59686da5",
   "metadata": {},
   "source": [
    "### Model Training"
   ]
  },
  {
   "cell_type": "code",
   "execution_count": 5,
   "id": "bb45ffdc",
   "metadata": {},
   "outputs": [
    {
     "name": "stdout",
     "output_type": "stream",
     "text": [
      "Using cpu device\n"
     ]
    },
    {
     "name": "stderr",
     "output_type": "stream",
     "text": [
      "C:\\Users\\kusha\\AppData\\Local\\Programs\\Python\\Python310\\lib\\site-packages\\stable_baselines3\\common\\vec_env\\patch_gym.py:49: UserWarning: You provided an OpenAI Gym environment. We strongly recommend transitioning to Gymnasium environments. Stable-Baselines3 is automatically wrapping your environments in a compatibility layer, which could potentially cause issues.\n",
      "  warnings.warn(\n"
     ]
    }
   ],
   "source": [
    "env = gym.make(env_name)\n",
    "env = DummyVecEnv([lambda: env])\n",
    "model = PPO('MlpPolicy', env, verbose=1)"
   ]
  },
  {
   "cell_type": "code",
   "execution_count": 6,
   "id": "3e68eb75",
   "metadata": {},
   "outputs": [
    {
     "name": "stdout",
     "output_type": "stream",
     "text": [
      "-----------------------------\n",
      "| time/              |      |\n",
      "|    fps             | 3788 |\n",
      "|    iterations      | 1    |\n",
      "|    time_elapsed    | 0    |\n",
      "|    total_timesteps | 2048 |\n",
      "-----------------------------\n",
      "-----------------------------------------\n",
      "| time/                   |             |\n",
      "|    fps                  | 2025        |\n",
      "|    iterations           | 2           |\n",
      "|    time_elapsed         | 2           |\n",
      "|    total_timesteps      | 4096        |\n",
      "| train/                  |             |\n",
      "|    approx_kl            | 0.008570341 |\n",
      "|    clip_fraction        | 0.115       |\n",
      "|    clip_range           | 0.2         |\n",
      "|    entropy_loss         | -0.686      |\n",
      "|    explained_variance   | 0.00134     |\n",
      "|    learning_rate        | 0.0003      |\n",
      "|    loss                 | 6.92        |\n",
      "|    n_updates            | 10          |\n",
      "|    policy_gradient_loss | -0.0191     |\n",
      "|    value_loss           | 49.8        |\n",
      "-----------------------------------------\n",
      "-----------------------------------------\n",
      "| time/                   |             |\n",
      "|    fps                  | 1885        |\n",
      "|    iterations           | 3           |\n",
      "|    time_elapsed         | 3           |\n",
      "|    total_timesteps      | 6144        |\n",
      "| train/                  |             |\n",
      "|    approx_kl            | 0.009149987 |\n",
      "|    clip_fraction        | 0.0672      |\n",
      "|    clip_range           | 0.2         |\n",
      "|    entropy_loss         | -0.665      |\n",
      "|    explained_variance   | 0.0881      |\n",
      "|    learning_rate        | 0.0003      |\n",
      "|    loss                 | 16.3        |\n",
      "|    n_updates            | 20          |\n",
      "|    policy_gradient_loss | -0.0194     |\n",
      "|    value_loss           | 36.8        |\n",
      "-----------------------------------------\n",
      "-----------------------------------------\n",
      "| time/                   |             |\n",
      "|    fps                  | 1841        |\n",
      "|    iterations           | 4           |\n",
      "|    time_elapsed         | 4           |\n",
      "|    total_timesteps      | 8192        |\n",
      "| train/                  |             |\n",
      "|    approx_kl            | 0.010888556 |\n",
      "|    clip_fraction        | 0.104       |\n",
      "|    clip_range           | 0.2         |\n",
      "|    entropy_loss         | -0.64       |\n",
      "|    explained_variance   | 0.287       |\n",
      "|    learning_rate        | 0.0003      |\n",
      "|    loss                 | 24.9        |\n",
      "|    n_updates            | 30          |\n",
      "|    policy_gradient_loss | -0.0213     |\n",
      "|    value_loss           | 55.1        |\n",
      "-----------------------------------------\n",
      "-----------------------------------------\n",
      "| time/                   |             |\n",
      "|    fps                  | 1803        |\n",
      "|    iterations           | 5           |\n",
      "|    time_elapsed         | 5           |\n",
      "|    total_timesteps      | 10240       |\n",
      "| train/                  |             |\n",
      "|    approx_kl            | 0.009141041 |\n",
      "|    clip_fraction        | 0.0699      |\n",
      "|    clip_range           | 0.2         |\n",
      "|    entropy_loss         | -0.608      |\n",
      "|    explained_variance   | 0.207       |\n",
      "|    learning_rate        | 0.0003      |\n",
      "|    loss                 | 24.9        |\n",
      "|    n_updates            | 40          |\n",
      "|    policy_gradient_loss | -0.0151     |\n",
      "|    value_loss           | 73.6        |\n",
      "-----------------------------------------\n",
      "------------------------------------------\n",
      "| time/                   |              |\n",
      "|    fps                  | 1759         |\n",
      "|    iterations           | 6            |\n",
      "|    time_elapsed         | 6            |\n",
      "|    total_timesteps      | 12288        |\n",
      "| train/                  |              |\n",
      "|    approx_kl            | 0.0051777237 |\n",
      "|    clip_fraction        | 0.0426       |\n",
      "|    clip_range           | 0.2          |\n",
      "|    entropy_loss         | -0.587       |\n",
      "|    explained_variance   | 0.22         |\n",
      "|    learning_rate        | 0.0003       |\n",
      "|    loss                 | 24.7         |\n",
      "|    n_updates            | 50           |\n",
      "|    policy_gradient_loss | -0.0116      |\n",
      "|    value_loss           | 72.6         |\n",
      "------------------------------------------\n",
      "------------------------------------------\n",
      "| time/                   |              |\n",
      "|    fps                  | 1745         |\n",
      "|    iterations           | 7            |\n",
      "|    time_elapsed         | 8            |\n",
      "|    total_timesteps      | 14336        |\n",
      "| train/                  |              |\n",
      "|    approx_kl            | 0.0073959557 |\n",
      "|    clip_fraction        | 0.0602       |\n",
      "|    clip_range           | 0.2          |\n",
      "|    entropy_loss         | -0.59        |\n",
      "|    explained_variance   | 0.607        |\n",
      "|    learning_rate        | 0.0003       |\n",
      "|    loss                 | 6.37         |\n",
      "|    n_updates            | 60           |\n",
      "|    policy_gradient_loss | -0.00942     |\n",
      "|    value_loss           | 42.6         |\n",
      "------------------------------------------\n",
      "------------------------------------------\n",
      "| time/                   |              |\n",
      "|    fps                  | 1735         |\n",
      "|    iterations           | 8            |\n",
      "|    time_elapsed         | 9            |\n",
      "|    total_timesteps      | 16384        |\n",
      "| train/                  |              |\n",
      "|    approx_kl            | 0.0044231117 |\n",
      "|    clip_fraction        | 0.0439       |\n",
      "|    clip_range           | 0.2          |\n",
      "|    entropy_loss         | -0.575       |\n",
      "|    explained_variance   | 0.641        |\n",
      "|    learning_rate        | 0.0003       |\n",
      "|    loss                 | 16.3         |\n",
      "|    n_updates            | 70           |\n",
      "|    policy_gradient_loss | -0.0105      |\n",
      "|    value_loss           | 49.4         |\n",
      "------------------------------------------\n",
      "----------------------------------------\n",
      "| time/                   |            |\n",
      "|    fps                  | 1731       |\n",
      "|    iterations           | 9          |\n",
      "|    time_elapsed         | 10         |\n",
      "|    total_timesteps      | 18432      |\n",
      "| train/                  |            |\n",
      "|    approx_kl            | 0.00960651 |\n",
      "|    clip_fraction        | 0.0713     |\n",
      "|    clip_range           | 0.2        |\n",
      "|    entropy_loss         | -0.557     |\n",
      "|    explained_variance   | 0.716      |\n",
      "|    learning_rate        | 0.0003     |\n",
      "|    loss                 | 1.74       |\n",
      "|    n_updates            | 80         |\n",
      "|    policy_gradient_loss | -0.00515   |\n",
      "|    value_loss           | 24.4       |\n",
      "----------------------------------------\n",
      "-----------------------------------------\n",
      "| time/                   |             |\n",
      "|    fps                  | 1725        |\n",
      "|    iterations           | 10          |\n",
      "|    time_elapsed         | 11          |\n",
      "|    total_timesteps      | 20480       |\n",
      "| train/                  |             |\n",
      "|    approx_kl            | 0.007119025 |\n",
      "|    clip_fraction        | 0.0327      |\n",
      "|    clip_range           | 0.2         |\n",
      "|    entropy_loss         | -0.563      |\n",
      "|    explained_variance   | 0.875       |\n",
      "|    learning_rate        | 0.0003      |\n",
      "|    loss                 | 1.35        |\n",
      "|    n_updates            | 90          |\n",
      "|    policy_gradient_loss | -0.00391    |\n",
      "|    value_loss           | 14.5        |\n",
      "-----------------------------------------\n"
     ]
    },
    {
     "data": {
      "text/plain": [
       "<stable_baselines3.ppo.ppo.PPO at 0x2b160f537c0>"
      ]
     },
     "execution_count": 6,
     "metadata": {},
     "output_type": "execute_result"
    }
   ],
   "source": [
    "model.learn(total_timesteps=20000)"
   ]
  },
  {
   "cell_type": "code",
   "execution_count": 7,
   "id": "273096ed",
   "metadata": {},
   "outputs": [],
   "source": [
    "model.save('PPO Model')"
   ]
  },
  {
   "cell_type": "markdown",
   "id": "a7fad2b3",
   "metadata": {},
   "source": [
    "### Model Testing"
   ]
  },
  {
   "cell_type": "code",
   "execution_count": 8,
   "id": "eee7cd8d",
   "metadata": {},
   "outputs": [
    {
     "name": "stderr",
     "output_type": "stream",
     "text": [
      "C:\\Users\\kusha\\AppData\\Local\\Programs\\Python\\Python310\\lib\\site-packages\\stable_baselines3\\common\\evaluation.py:67: UserWarning: Evaluation environment is not wrapped with a ``Monitor`` wrapper. This may result in reporting modified episode lengths and rewards, if other wrappers happen to modify these. Consider wrapping environment first with ``Monitor`` wrapper.\n",
      "  warnings.warn(\n",
      "C:\\Users\\kusha\\AppData\\Local\\Programs\\Python\\Python310\\lib\\site-packages\\stable_baselines3\\common\\vec_env\\base_vec_env.py:243: UserWarning: You tried to call render() but no `render_mode` was passed to the env constructor.\n",
      "  warnings.warn(\"You tried to call render() but no `render_mode` was passed to the env constructor.\")\n"
     ]
    },
    {
     "data": {
      "text/plain": [
       "(200.0, 0.0)"
      ]
     },
     "execution_count": 8,
     "metadata": {},
     "output_type": "execute_result"
    }
   ],
   "source": [
    "evaluate_policy(model, env, n_eval_episodes=10, render=True)"
   ]
  },
  {
   "cell_type": "code",
   "execution_count": 9,
   "id": "36707ebd",
   "metadata": {},
   "outputs": [],
   "source": [
    "env.close()"
   ]
  },
  {
   "cell_type": "code",
   "execution_count": 10,
   "id": "01ae2058",
   "metadata": {},
   "outputs": [
    {
     "name": "stdout",
     "output_type": "stream",
     "text": [
      "Episode:  1 Score:  [200.]\n",
      "Episode:  2 Score:  [200.]\n",
      "Episode:  3 Score:  [200.]\n",
      "Episode:  4 Score:  [200.]\n",
      "Episode:  5 Score:  [200.]\n",
      "Episode:  6 Score:  [200.]\n",
      "Episode:  7 Score:  [200.]\n",
      "Episode:  8 Score:  [200.]\n",
      "Episode:  9 Score:  [200.]\n",
      "Episode:  10 Score:  [200.]\n"
     ]
    }
   ],
   "source": [
    "for episode in range(1, 11):\n",
    "    score = 0\n",
    "    obs = env.reset()\n",
    "    done = False\n",
    "    \n",
    "    while not done:\n",
    "        env.render()\n",
    "        action, _ = model.predict(obs)\n",
    "        obs, reward, done, info = env.step(action)\n",
    "        score += reward\n",
    "        \n",
    "    print('Episode: ', episode, 'Score: ', score)\n",
    "env.close()"
   ]
  },
  {
   "cell_type": "markdown",
   "id": "57ed2c26",
   "metadata": {},
   "source": [
    "Score has improved significantly after training the PPO model and using it to predict the next move of the pole"
   ]
  },
  {
   "cell_type": "code",
   "execution_count": null,
   "id": "08732eb5",
   "metadata": {},
   "outputs": [],
   "source": []
  }
 ],
 "metadata": {
  "kernelspec": {
   "display_name": "Python 3 (ipykernel)",
   "language": "python",
   "name": "python3"
  },
  "language_info": {
   "codemirror_mode": {
    "name": "ipython",
    "version": 3
   },
   "file_extension": ".py",
   "mimetype": "text/x-python",
   "name": "python",
   "nbconvert_exporter": "python",
   "pygments_lexer": "ipython3",
   "version": "3.10.8"
  }
 },
 "nbformat": 4,
 "nbformat_minor": 5
}
